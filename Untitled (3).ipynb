{
 "cells": [
  {
   "cell_type": "markdown",
   "metadata": {},
   "source": [
    "1.The function \"echo_name\" takes 2 parameters: a string value, \"name1\"and an integer value, \"echo_int\". It returns a string that is a concatenation of \"echo_int\" copies of \"name1\". Your task is to convert this simple function into a lambda function. Instructions: Define the lambda function \"echo_name\" using the variables \"name1\" and \" echo_int\". Replicate what the original function definition for \"echo_nam e ()\" does above. Call \"echo_name ()\" with the string argument 'acadgild' and the value 5, in that order. Assign the call to result Expected Output acadgildacadgildacadgildacadgildacadgild"
   ]
  },
  {
   "cell_type": "code",
   "execution_count": 1,
   "metadata": {},
   "outputs": [],
   "source": [
    "def echo_name(name1,echo_int):\n",
    "    print(name1*echo_int)"
   ]
  },
  {
   "cell_type": "code",
   "execution_count": 2,
   "metadata": {},
   "outputs": [
    {
     "name": "stdout",
     "output_type": "stream",
     "text": [
      "acadgild acadgild acadgild acadgild acadgild \n"
     ]
    }
   ],
   "source": [
    "echo_name(\"acadgild \",5)"
   ]
  },
  {
   "cell_type": "code",
   "execution_count": 25,
   "metadata": {},
   "outputs": [],
   "source": [
    "echo_name = lambda name1,echo_int: print(name1*echo_int)\n"
   ]
  },
  {
   "cell_type": "code",
   "execution_count": 26,
   "metadata": {},
   "outputs": [
    {
     "name": "stdout",
     "output_type": "stream",
     "text": [
      "acadgildacadgildacadgildacadgildacadgild\n"
     ]
    }
   ],
   "source": [
    "echo_name(\"acadgild\",5)\n"
   ]
  },
  {
   "cell_type": "markdown",
   "metadata": {},
   "source": [
    "2.Convert temperature in Celsius to Fahrenheit using map() and lambda functions Sample input Celsius = [49.2, 26.5, 47.3, 47.8] Expected Output [120.56, 79.7, 117.14, 118.03999999999999]\n",
    "\n"
   ]
  },
  {
   "cell_type": "code",
   "execution_count": 5,
   "metadata": {},
   "outputs": [],
   "source": [
    "get_fahrenheit =lambda celsius_val: (celsius_val*9/5)+32\n"
   ]
  },
  {
   "cell_type": "code",
   "execution_count": 6,
   "metadata": {},
   "outputs": [],
   "source": [
    "celsius = [49.2, 26.5, 47.3, 47.8]\n"
   ]
  },
  {
   "cell_type": "code",
   "execution_count": 20,
   "metadata": {},
   "outputs": [],
   "source": [
    "result= list(map(get_fahrenheit,celsius))\n"
   ]
  },
  {
   "cell_type": "code",
   "execution_count": 21,
   "metadata": {},
   "outputs": [
    {
     "name": "stdout",
     "output_type": "stream",
     "text": [
      "[120.56, 79.7, 117.14, 118.03999999999999]\n"
     ]
    }
   ],
   "source": [
    "print(result)"
   ]
  },
  {
   "cell_type": "markdown",
   "metadata": {},
   "source": [
    "3. The function filter(function, list) filters out all the elements of a list, for which the function function returns True. The function filter(f,l) needs a function f as its first argument. f re turns a Boolean value, i.e. either True or False. This function will be applied to every element of the list l. Only if f returns True will the element of the list be included in the result list Q. print the letters that are vowels using filter and lambda functions sample_string = \"Welcome to AcadGild\" Expected Output ['e', 'o', 'e', 'o', 'A', 'a', 'i']\n",
    "\n"
   ]
  },
  {
   "cell_type": "code",
   "execution_count": 11,
   "metadata": {},
   "outputs": [],
   "source": [
    "def is_vowel(an_alphabet):\n",
    "    vowels = list(\"aeiouAEIOU\")\n",
    "    return an_alphabet in vowels"
   ]
  },
  {
   "cell_type": "code",
   "execution_count": 12,
   "metadata": {},
   "outputs": [
    {
     "data": {
      "text/plain": [
       "['e', 'o', 'e', 'o', 'A', 'a', 'i']"
      ]
     },
     "execution_count": 12,
     "metadata": {},
     "output_type": "execute_result"
    }
   ],
   "source": [
    "list(filter(is_vowel,\"Welcome to AcadGild\"))\n"
   ]
  },
  {
   "cell_type": "markdown",
   "metadata": {},
   "source": [
    "4. Use generator expression to print out only alphabets from the following\n",
    "string\n",
    "string = \"123@Welc34ometo12@ac#adGild\"\n"
   ]
  },
  {
   "cell_type": "code",
   "execution_count": 14,
   "metadata": {},
   "outputs": [],
   "source": [
    "string = \"123@Welc34ometo12@ac#adGild\"\n"
   ]
  },
  {
   "cell_type": "code",
   "execution_count": 18,
   "metadata": {},
   "outputs": [],
   "source": [
    "string ='' .join(list(x for x in string if x.isalpha()))\n"
   ]
  },
  {
   "cell_type": "code",
   "execution_count": 19,
   "metadata": {},
   "outputs": [
    {
     "data": {
      "text/plain": [
       "'WelcometoacadGild'"
      ]
     },
     "execution_count": 19,
     "metadata": {},
     "output_type": "execute_result"
    }
   ],
   "source": [
    "string"
   ]
  },
  {
   "cell_type": "markdown",
   "metadata": {},
   "source": [
    "5. Implement a function longestWord() that takes a list of words and returns\n",
    "the longest one.\n",
    "Sample Word List\n",
    "word= [\"January\",\"Feburary\",\"March\",\"April\",\"May\",\"June\",\"July\"]"
   ]
  },
  {
   "cell_type": "code",
   "execution_count": 27,
   "metadata": {},
   "outputs": [],
   "source": [
    "word= [\"January\",\"Feburary\",\"March\",\"April\",\"May\",\"June\",\"July\"]\n"
   ]
  },
  {
   "cell_type": "code",
   "execution_count": 28,
   "metadata": {},
   "outputs": [],
   "source": [
    "def longestWord(arg_word):\n",
    "    max_len = len(arg_word[0])\n",
    "    for i_word in arg_word:\n",
    "        if len(i_word) > max_len:\n",
    "            longest_word = i_word\n",
    "    return [longest_word]"
   ]
  },
  {
   "cell_type": "code",
   "execution_count": 29,
   "metadata": {},
   "outputs": [
    {
     "data": {
      "text/plain": [
       "['Feburary']"
      ]
     },
     "execution_count": 29,
     "metadata": {},
     "output_type": "execute_result"
    }
   ],
   "source": [
    "longestWord(word)\n"
   ]
  },
  {
   "cell_type": "code",
   "execution_count": null,
   "metadata": {},
   "outputs": [],
   "source": []
  }
 ],
 "metadata": {
  "kernelspec": {
   "display_name": "Python 3",
   "language": "python",
   "name": "python3"
  },
  "language_info": {
   "codemirror_mode": {
    "name": "ipython",
    "version": 3
   },
   "file_extension": ".py",
   "mimetype": "text/x-python",
   "name": "python",
   "nbconvert_exporter": "python",
   "pygments_lexer": "ipython3",
   "version": "3.7.0"
  }
 },
 "nbformat": 4,
 "nbformat_minor": 2
}
